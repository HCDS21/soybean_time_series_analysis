{
  "nbformat": 4,
  "nbformat_minor": 0,
  "metadata": {
    "colab": {
      "provenance": [],
      "mount_file_id": "1E7xzkaNLhbjN8qWJI21Vn-xjfgnHdPGE",
      "authorship_tag": "ABX9TyP4pFNYIhTkiyR/5eVTBZOP",
      "include_colab_link": true
    },
    "kernelspec": {
      "name": "python3",
      "display_name": "Python 3"
    },
    "language_info": {
      "name": "python"
    }
  },
  "cells": [
    {
      "cell_type": "markdown",
      "metadata": {
        "id": "view-in-github",
        "colab_type": "text"
      },
      "source": [
        "<a href=\"https://colab.research.google.com/github/HCDS21/soybean_time_series_analysis/blob/main/tsa_poscovid_v2_1.ipynb\" target=\"_parent\"><img src=\"https://colab.research.google.com/assets/colab-badge.svg\" alt=\"Open In Colab\"/></a>"
      ]
    },
    {
      "cell_type": "code",
      "source": [
        "! pip install -U kaleido\n",
        "!pip install pmdarima"
      ],
      "metadata": {
        "id": "G7zndrtado5M",
        "colab": {
          "base_uri": "https://localhost:8080/"
        },
        "outputId": "0cb9c6fc-b60f-44be-d6d6-5db19a1ce804"
      },
      "execution_count": null,
      "outputs": [
        {
          "output_type": "stream",
          "name": "stdout",
          "text": [
            "Looking in indexes: https://pypi.org/simple, https://us-python.pkg.dev/colab-wheels/public/simple/\n",
            "Collecting kaleido\n",
            "  Downloading kaleido-0.2.1-py2.py3-none-manylinux1_x86_64.whl (79.9 MB)\n",
            "\u001b[2K     \u001b[90m━━━━━━━━━━━━━━━━━━━━━━━━━━━━━━━━━━━━━━━━\u001b[0m \u001b[32m79.9/79.9 MB\u001b[0m \u001b[31m9.6 MB/s\u001b[0m eta \u001b[36m0:00:00\u001b[0m\n",
            "\u001b[?25hInstalling collected packages: kaleido\n",
            "Successfully installed kaleido-0.2.1\n",
            "Looking in indexes: https://pypi.org/simple, https://us-python.pkg.dev/colab-wheels/public/simple/\n",
            "Collecting pmdarima\n",
            "  Downloading pmdarima-2.0.3-cp39-cp39-manylinux_2_17_x86_64.manylinux2014_x86_64.manylinux_2_28_x86_64.whl (1.9 MB)\n",
            "\u001b[2K     \u001b[90m━━━━━━━━━━━━━━━━━━━━━━━━━━━━━━━━━━━━━━━━\u001b[0m \u001b[32m1.9/1.9 MB\u001b[0m \u001b[31m16.6 MB/s\u001b[0m eta \u001b[36m0:00:00\u001b[0m\n",
            "\u001b[?25hRequirement already satisfied: Cython!=0.29.18,!=0.29.31,>=0.29 in /usr/local/lib/python3.9/dist-packages (from pmdarima) (0.29.34)\n",
            "Requirement already satisfied: setuptools!=50.0.0,>=38.6.0 in /usr/local/lib/python3.9/dist-packages (from pmdarima) (67.6.1)\n",
            "Requirement already satisfied: scipy>=1.3.2 in /usr/local/lib/python3.9/dist-packages (from pmdarima) (1.10.1)\n",
            "Requirement already satisfied: pandas>=0.19 in /usr/local/lib/python3.9/dist-packages (from pmdarima) (1.5.3)\n",
            "Requirement already satisfied: numpy>=1.21.2 in /usr/local/lib/python3.9/dist-packages (from pmdarima) (1.22.4)\n",
            "Requirement already satisfied: joblib>=0.11 in /usr/local/lib/python3.9/dist-packages (from pmdarima) (1.2.0)\n",
            "Requirement already satisfied: statsmodels>=0.13.2 in /usr/local/lib/python3.9/dist-packages (from pmdarima) (0.13.5)\n",
            "Requirement already satisfied: urllib3 in /usr/local/lib/python3.9/dist-packages (from pmdarima) (1.26.15)\n",
            "Requirement already satisfied: scikit-learn>=0.22 in /usr/local/lib/python3.9/dist-packages (from pmdarima) (1.2.2)\n",
            "Requirement already satisfied: pytz>=2020.1 in /usr/local/lib/python3.9/dist-packages (from pandas>=0.19->pmdarima) (2022.7.1)\n",
            "Requirement already satisfied: python-dateutil>=2.8.1 in /usr/local/lib/python3.9/dist-packages (from pandas>=0.19->pmdarima) (2.8.2)\n",
            "Requirement already satisfied: threadpoolctl>=2.0.0 in /usr/local/lib/python3.9/dist-packages (from scikit-learn>=0.22->pmdarima) (3.1.0)\n",
            "Requirement already satisfied: packaging>=21.3 in /usr/local/lib/python3.9/dist-packages (from statsmodels>=0.13.2->pmdarima) (23.0)\n",
            "Requirement already satisfied: patsy>=0.5.2 in /usr/local/lib/python3.9/dist-packages (from statsmodels>=0.13.2->pmdarima) (0.5.3)\n",
            "Requirement already satisfied: six in /usr/local/lib/python3.9/dist-packages (from patsy>=0.5.2->statsmodels>=0.13.2->pmdarima) (1.16.0)\n",
            "Installing collected packages: pmdarima\n",
            "Successfully installed pmdarima-2.0.3\n"
          ]
        }
      ]
    },
    {
      "cell_type": "code",
      "execution_count": null,
      "metadata": {
        "id": "SG_g2mlbeMes"
      },
      "outputs": [],
      "source": [
        "import numpy as np\n",
        "import pandas as pd\n",
        "\n",
        "import plotly.express as px\n",
        "from plotly.subplots import make_subplots\n",
        "import plotly.graph_objects as go\n",
        "import matplotlib.pyplot as plt\n",
        "import seaborn as sns\n",
        "from seaborn.rcmod import axes_style\n",
        "\n",
        "from statsmodels.tsa.stattools import adfuller\n",
        "from statsmodels.tsa.stattools import kpss\n",
        "from statsmodels.tsa.arima.model import ARIMA\n",
        "from statsmodels.tsa.arima.model import ARIMAResults\n",
        "import statsmodels.api as sm\n",
        "from statsmodels.graphics.tsaplots import plot_acf, plot_pacf\n",
        "\n"
      ]
    },
    {
      "cell_type": "markdown",
      "source": [
        "# Carga de dados"
      ],
      "metadata": {
        "id": "2JRThz5Q7X9t"
      }
    },
    {
      "cell_type": "code",
      "source": [
        "df = pd.read_excel(\"/content/drive/MyDrive/A-TCC DSA/Hector Jose Cervellon Urrutia/Analise_soja/arima_2.0/dados preenchidos_v2.xlsx\")\n",
        "\n",
        "df['data'] = pd.to_datetime(df['data'])\n"
      ],
      "metadata": {
        "id": "AXH3PwB0e1Z1"
      },
      "execution_count": null,
      "outputs": []
    },
    {
      "cell_type": "code",
      "source": [
        "df = df[['data','real']]\n",
        "df.info()"
      ],
      "metadata": {
        "colab": {
          "base_uri": "https://localhost:8080/"
        },
        "id": "VR2nagrie3HV",
        "outputId": "c6f2c943-f08e-4eb9-d447-e9ae15557540"
      },
      "execution_count": null,
      "outputs": [
        {
          "output_type": "stream",
          "name": "stdout",
          "text": [
            "<class 'pandas.core.frame.DataFrame'>\n",
            "RangeIndex: 731 entries, 0 to 730\n",
            "Data columns (total 2 columns):\n",
            " #   Column  Non-Null Count  Dtype         \n",
            "---  ------  --------------  -----         \n",
            " 0   data    731 non-null    datetime64[ns]\n",
            " 1   real    731 non-null    float64       \n",
            "dtypes: datetime64[ns](1), float64(1)\n",
            "memory usage: 11.5 KB\n"
          ]
        }
      ]
    },
    {
      "cell_type": "markdown",
      "source": [
        "# Data wrangling - Pre covid"
      ],
      "metadata": {
        "id": "FNg-_loelfx6"
      }
    },
    {
      "cell_type": "code",
      "source": [
        "poscovid = df[df['data'].gt('2020-03-10') & df['data'].lt('2021-03-11')].reset_index(drop=True)\n"
      ],
      "metadata": {
        "id": "WKeDh-9gk4et"
      },
      "execution_count": null,
      "outputs": []
    },
    {
      "cell_type": "markdown",
      "source": [
        "## Separação da base de dados em treino e teste"
      ],
      "metadata": {
        "id": "ZVu6fAXVzYvH"
      }
    },
    {
      "cell_type": "code",
      "source": [
        "poscovid_train = poscovid[0:292]\n",
        "poscovid_test = poscovid[292:365]\n"
      ],
      "metadata": {
        "id": "lRzZu4Nozmbb"
      },
      "execution_count": null,
      "outputs": []
    },
    {
      "cell_type": "markdown",
      "source": [
        "# Verificação da estacionalidade dos dados"
      ],
      "metadata": {
        "id": "wAPd4Hd4vIME"
      }
    },
    {
      "cell_type": "code",
      "source": [
        "#Verificando por medio da ACF\n",
        "sns.set(style=\"darkgrid\")\n",
        "f, (axs) = plt.subplots(1,2)\n",
        "#f = plt.figure()\n",
        "plot_acf(poscovid_train['real'].dropna())\n",
        "#plt.savefig('/content/drive/MyDrive/A-TCC DSA/Hector Jose Cervellon Urrutia/Analise_soja/imagens/pac_poscovid_treino.png')\n",
        "plt.show()"
      ],
      "metadata": {
        "colab": {
          "base_uri": "https://localhost:8080/",
          "height": 880
        },
        "id": "RCjDp-Ltu4k2",
        "outputId": "a387c3d0-932d-4f9b-aab5-00e670b7919e"
      },
      "execution_count": null,
      "outputs": [
        {
          "output_type": "display_data",
          "data": {
            "text/plain": [
              "<Figure size 640x480 with 2 Axes>"
            ],
            "image/png": "[encoded data removed]"
          },
          "metadata": {}
        },
        {
          "output_type": "display_data",
          "data": {
            "text/plain": [
              "<Figure size 640x480 with 1 Axes>"
            ],
            "image/png": "[encoded data removed]"
          },
          "metadata": {}
        }
      ]
    },
    {
      "cell_type": "markdown",
      "source": [
        "O grafico da ACF mostra uma queda praticamente nula ao longo dos lags o que da um forte indicio de que a serie não é estacionaria.\n",
        "\n",
        "Vamos utilizar o teste Dickey-Fuller, o teste verificara se a série é ou não estacionaria a partir da hipotese:\n",
        "\n",
        "H0 = A série é não estacionaria\n",
        "\n",
        "H1 = Há fortes indicios estatisticos de que a serie é estacionaria."
      ],
      "metadata": {
        "id": "6goHJIHswZni"
      }
    },
    {
      "cell_type": "code",
      "source": [
        "def adfuller_test(teste):\n",
        "    result=adfuller(teste)\n",
        "    labels = ['ADF Test Statistic','p-value','#Lags Used','Number of Observations Used']\n",
        "    for value,label in zip(result,labels):\n",
        "        print(label+' : '+str(value) )\n",
        "    if result[1] <= 0.05:\n",
        "        print(\"P value is less than 0.05 that means we can reject the null hypothesis(Ho). Therefore we can conclude that data has no unit root and is stationary\")\n",
        "    else:\n",
        "        print(\"Weak evidence against null hypothesis that means time series has a unit root which indicates that it is non-stationary \")"
      ],
      "metadata": {
        "id": "csJFFx6TwEkM"
      },
      "execution_count": null,
      "outputs": []
    },
    {
      "cell_type": "code",
      "source": [
        "adfuller_test(poscovid_train['real'])"
      ],
      "metadata": {
        "id": "uEF9E8ClyRv8",
        "colab": {
          "base_uri": "https://localhost:8080/"
        },
        "outputId": "cfc1d33f-2d41-4c81-b64d-60ee6fa7167e"
      },
      "execution_count": null,
      "outputs": [
        {
          "output_type": "stream",
          "name": "stdout",
          "text": [
            "ADF Test Statistic : -1.3437234418853963\n",
            "p-value : 0.6089391310522717\n",
            "#Lags Used : 1\n",
            "Number of Observations Used : 290\n",
            "Weak evidence against null hypothesis that means time series has a unit root which indicates that it is non-stationary \n"
          ]
        }
      ]
    },
    {
      "cell_type": "code",
      "source": [
        "def kpss_test(timeseries):\n",
        "    print(\"Results of KPSS Test:\")\n",
        "    kpsstest = kpss(timeseries, regression=\"c\", nlags=\"auto\")\n",
        "    kpss_output = pd.Series(\n",
        "        kpsstest[0:3], index=[\"Test Statistic\", \"p-value\", \"Lags Used\"]\n",
        "    )\n",
        "    for key, value in kpsstest[3].items():\n",
        "        kpss_output[\"Critical Value (%s)\" % key] = value\n",
        "    print(kpss_output)"
      ],
      "metadata": {
        "id": "FO0Ovtsx2Kf1"
      },
      "execution_count": null,
      "outputs": []
    },
    {
      "cell_type": "code",
      "source": [
        "kpss_test(poscovid_train['real'])"
      ],
      "metadata": {
        "id": "M6O3uTv32Or1",
        "colab": {
          "base_uri": "https://localhost:8080/"
        },
        "outputId": "9ada03a2-7911-4e2e-c8af-81100a41238f"
      },
      "execution_count": null,
      "outputs": [
        {
          "output_type": "stream",
          "name": "stdout",
          "text": [
            "Results of KPSS Test:\n",
            "Test Statistic            2.581747\n",
            "p-value                   0.010000\n",
            "Lags Used                10.000000\n",
            "Critical Value (10%)      0.347000\n",
            "Critical Value (5%)       0.463000\n",
            "Critical Value (2.5%)     0.574000\n",
            "Critical Value (1%)       0.739000\n",
            "dtype: float64\n"
          ]
        },
        {
          "output_type": "stream",
          "name": "stderr",
          "text": [
            "/usr/local/lib/python3.9/dist-packages/statsmodels/tsa/stattools.py:2018: InterpolationWarning: The test statistic is outside of the range of p-values available in the\n",
            "look-up table. The actual p-value is smaller than the p-value returned.\n",
            "\n",
            "  warnings.warn(\n"
          ]
        }
      ]
    },
    {
      "cell_type": "markdown",
      "source": [
        "# Diferenciando a série para torná-la estacionaria"
      ],
      "metadata": {
        "id": "tLTHrOF4y8tb"
      }
    },
    {
      "cell_type": "code",
      "source": [
        "poscovid_train['primeira_deriv'] = poscovid_train['real'].diff(1)\n",
        "poscovid_train['segunda_deriv'] = poscovid_train['real'].diff(2)\n",
        "poscovid_train['terceira_deriv'] = poscovid_train['real'].diff(3)\n"
      ],
      "metadata": {
        "id": "j0RPLAZ0yXXK",
        "colab": {
          "base_uri": "https://localhost:8080/"
        },
        "outputId": "0ccf5f77-17eb-42f3-fdba-0f37c715571c"
      },
      "execution_count": null,
      "outputs": [
        {
          "output_type": "stream",
          "name": "stderr",
          "text": [
            "<ipython-input-12-5aed88805ce0>:1: SettingWithCopyWarning: \n",
            "A value is trying to be set on a copy of a slice from a DataFrame.\n",
            "Try using .loc[row_indexer,col_indexer] = value instead\n",
            "\n",
            "See the caveats in the documentation: https://pandas.pydata.org/pandas-docs/stable/user_guide/indexing.html#returning-a-view-versus-a-copy\n",
            "  poscovid_train['primeira_deriv'] = poscovid_train['real'].diff(1)\n",
            "<ipython-input-12-5aed88805ce0>:2: SettingWithCopyWarning: \n",
            "A value is trying to be set on a copy of a slice from a DataFrame.\n",
            "Try using .loc[row_indexer,col_indexer] = value instead\n",
            "\n",
            "See the caveats in the documentation: https://pandas.pydata.org/pandas-docs/stable/user_guide/indexing.html#returning-a-view-versus-a-copy\n",
            "  poscovid_train['segunda_deriv'] = poscovid_train['real'].diff(2)\n",
            "<ipython-input-12-5aed88805ce0>:3: SettingWithCopyWarning: \n",
            "A value is trying to be set on a copy of a slice from a DataFrame.\n",
            "Try using .loc[row_indexer,col_indexer] = value instead\n",
            "\n",
            "See the caveats in the documentation: https://pandas.pydata.org/pandas-docs/stable/user_guide/indexing.html#returning-a-view-versus-a-copy\n",
            "  poscovid_train['terceira_deriv'] = poscovid_train['real'].diff(3)\n"
          ]
        }
      ]
    },
    {
      "cell_type": "markdown",
      "source": [
        "###Primeira derivada"
      ],
      "metadata": {
        "id": "vxR09Skbfxh3"
      }
    },
    {
      "cell_type": "code",
      "source": [
        "adfuller_test(poscovid_train['primeira_deriv'].dropna())\n",
        "#kpss test testar"
      ],
      "metadata": {
        "id": "6vp6WfQg3qme",
        "colab": {
          "base_uri": "https://localhost:8080/"
        },
        "outputId": "44178760-f890-420f-874f-381035df870f"
      },
      "execution_count": null,
      "outputs": [
        {
          "output_type": "stream",
          "name": "stdout",
          "text": [
            "ADF Test Statistic : -20.36740811325065\n",
            "p-value : 0.0\n",
            "#Lags Used : 0\n",
            "Number of Observations Used : 290\n",
            "P value is less than 0.05 that means we can reject the null hypothesis(Ho). Therefore we can conclude that data has no unit root and is stationary\n"
          ]
        }
      ]
    },
    {
      "cell_type": "code",
      "source": [
        "kpss_test(poscovid_train['primeira_deriv'].dropna())"
      ],
      "metadata": {
        "id": "LtsHct173BDg",
        "colab": {
          "base_uri": "https://localhost:8080/"
        },
        "outputId": "ff530837-7564-4aa1-ca1a-237b929c3c08"
      },
      "execution_count": null,
      "outputs": [
        {
          "output_type": "stream",
          "name": "stdout",
          "text": [
            "Results of KPSS Test:\n",
            "Test Statistic           0.269295\n",
            "p-value                  0.100000\n",
            "Lags Used                4.000000\n",
            "Critical Value (10%)     0.347000\n",
            "Critical Value (5%)      0.463000\n",
            "Critical Value (2.5%)    0.574000\n",
            "Critical Value (1%)      0.739000\n",
            "dtype: float64\n"
          ]
        },
        {
          "output_type": "stream",
          "name": "stderr",
          "text": [
            "/usr/local/lib/python3.9/dist-packages/statsmodels/tsa/stattools.py:2022: InterpolationWarning: The test statistic is outside of the range of p-values available in the\n",
            "look-up table. The actual p-value is greater than the p-value returned.\n",
            "\n",
            "  warnings.warn(\n"
          ]
        }
      ]
    },
    {
      "cell_type": "code",
      "source": [
        "acf_diff = plot_acf(poscovid_train['primeira_deriv'].dropna())\n",
        "pacf_diff = plot_pacf(poscovid_train['primeira_deriv'].dropna())\n",
        "print(acf_diff == pacf_diff)"
      ],
      "metadata": {
        "id": "8QzVjd158j8V",
        "colab": {
          "base_uri": "https://localhost:8080/",
          "height": 969
        },
        "outputId": "e3780b5f-3381-4e8e-9e83-8e190042e48f"
      },
      "execution_count": null,
      "outputs": [
        {
          "output_type": "stream",
          "name": "stdout",
          "text": [
            "False\n"
          ]
        },
        {
          "output_type": "stream",
          "name": "stderr",
          "text": [
            "/usr/local/lib/python3.9/dist-packages/statsmodels/graphics/tsaplots.py:348: FutureWarning: The default method 'yw' can produce PACF values outside of the [-1,1] interval. After 0.13, the default will change tounadjusted Yule-Walker ('ywm'). You can use this method now by setting method='ywm'.\n",
            "  warnings.warn(\n"
          ]
        },
        {
          "output_type": "display_data",
          "data": {
            "text/plain": [
              "<Figure size 640x480 with 1 Axes>"
            ],
            "image/png": "[encoded data removed]"
          },
          "metadata": {}
        },
        {
          "output_type": "display_data",
          "data": {
            "text/plain": [
              "<Figure size 640x480 with 1 Axes>"
            ],
            "image/png": "[encoded data removed]"
          },
          "metadata": {}
        }
      ]
    },
    {
      "cell_type": "code",
      "source": [
        "fig, (ax1, ax2) = plt.subplots(1, 2,figsize=(8,4))\n",
        "\n",
        "plot_acf(poscovid_train['real'], ax=ax1)\n",
        "ax1.set_title('ACF: Pré-COVID-19')\n",
        "plot_acf(poscovid_train['real'], ax=ax2)\n",
        "ax2.set_title('ACF: COVID-19')\n",
        "#plt.savefig('/content/drive/MyDrive/A-TCC DSA/Hector Jose Cervellon Urrutia/Analise_soja/imagens/acf_inicial.png')\n",
        "fig.show()"
      ],
      "metadata": {
        "colab": {
          "base_uri": "https://localhost:8080/",
          "height": 395
        },
        "id": "sZqmL43I0IIz",
        "outputId": "e5c7d7dd-ea25-40a0-bb4c-df868f1c7776"
      },
      "execution_count": null,
      "outputs": [
        {
          "output_type": "display_data",
          "data": {
            "text/plain": [
              "<Figure size 800x400 with 2 Axes>"
            ],
            "image/png": "[encoded data removed]"
          },
          "metadata": {}
        }
      ]
    },
    {
      "cell_type": "code",
      "source": [
        "modelos = pd.DataFrame(columns=['modelo','aic'])"
      ],
      "metadata": {
        "id": "l6lgYxIQsu8y"
      },
      "execution_count": null,
      "outputs": []
    },
    {
      "cell_type": "code",
      "source": [
        "p = 0\n",
        "d = 0\n",
        "q=0\n",
        "modelo = 0\n",
        "contador =0\n",
        "m = 0\n",
        "order=0\n",
        "modelo=0\n",
        "\n",
        "for ar in range (0,5):\n",
        "  p = ar\n",
        "  for i in range(1,3):\n",
        "    d = i\n",
        "    for ma in range(0,5):\n",
        "      q = ma\n",
        "      vetor=[]\n",
        "      order=(p,d,q)\n",
        "      vetor.append(order)\n",
        "      modelo = ARIMA(poscovid_train['real'], order= order)\n",
        "      m = modelo.fit()\n",
        "      vetor.append(round(m.aic,3))\n",
        "      modelos.loc[contador] = vetor\n",
        "      print('modelo:','(',p,d,q,')', '#:',contador, 'vetor:', vetor)\n",
        "      contador= contador + 1\n"
      ],
      "metadata": {
        "id": "GB83BtnAsC1G",
        "colab": {
          "base_uri": "https://localhost:8080/"
        },
        "outputId": "fe210222-8d09-46b6-f2f4-1f754ff9e77b"
      },
      "execution_count": null,
      "outputs": [
        {
          "output_type": "stream",
          "name": "stdout",
          "text": [
            "modelo: ( 0 1 0 ) #: 0 vetor: [(0, 1, 0), 1110.61]\n",
            "modelo: ( 0 1 1 ) #: 1 vetor: [(0, 1, 1), 1104.315]\n",
            "modelo: ( 0 1 2 ) #: 2 vetor: [(0, 1, 2), 1106.31]\n",
            "modelo: ( 0 1 3 ) #: 3 vetor: [(0, 1, 3), 1105.952]\n",
            "modelo: ( 0 1 4 ) #: 4 vetor: [(0, 1, 4), 1105.032]\n",
            "modelo: ( 0 2 0 ) #: 5 vetor: [(0, 2, 0), 1352.213]\n",
            "modelo: ( 0 2 1 ) #: 6 vetor: [(0, 2, 1), 1111.111]\n",
            "modelo: ( 0 2 2 ) #: 7 vetor: [(0, 2, 2), 1099.556]\n",
            "modelo: ( 0 2 3 ) #: 8 vetor: [(0, 2, 3), 1100.713]\n",
            "modelo: ( 0 2 4 ) #: 9 vetor: [(0, 2, 4), 1102.06]\n",
            "modelo: ( 1 1 0 ) #: 10 vetor: [(1, 1, 0), 1104.872]\n",
            "modelo: ( 1 1 1 ) #: 11 vetor: [(1, 1, 1), 1106.312]\n",
            "modelo: ( 1 1 2 ) #: 12 vetor: [(1, 1, 2), 1100.05]\n",
            "modelo: ( 1 1 3 ) #: 13 vetor: [(1, 1, 3), 1100.947]\n",
            "modelo: ( 1 1 4 ) #: 14 vetor: [(1, 1, 4), 1105.059]\n",
            "modelo: ( 1 2 0 ) #: 15 vetor: [(1, 2, 0), 1247.378]\n",
            "modelo: ( 1 2 1 ) #: 16 vetor: [(1, 2, 1), 1102.053]\n"
          ]
        },
        {
          "output_type": "stream",
          "name": "stderr",
          "text": [
            "/usr/local/lib/python3.9/dist-packages/statsmodels/tsa/statespace/sarimax.py:978: UserWarning: Non-invertible starting MA parameters found. Using zeros as starting parameters.\n",
            "  warn('Non-invertible starting MA parameters found.'\n"
          ]
        },
        {
          "output_type": "stream",
          "name": "stdout",
          "text": [
            "modelo: ( 1 2 2 ) #: 17 vetor: [(1, 2, 2), 1100.977]\n",
            "modelo: ( 1 2 3 ) #: 18 vetor: [(1, 2, 3), 1102.46]\n",
            "modelo: ( 1 2 4 ) #: 19 vetor: [(1, 2, 4), 1104.516]\n",
            "modelo: ( 2 1 0 ) #: 20 vetor: [(2, 1, 0), 1105.848]\n",
            "modelo: ( 2 1 1 ) #: 21 vetor: [(2, 1, 1), 1107.666]\n"
          ]
        },
        {
          "output_type": "stream",
          "name": "stderr",
          "text": [
            "/usr/local/lib/python3.9/dist-packages/statsmodels/base/model.py:604: ConvergenceWarning: Maximum Likelihood optimization failed to converge. Check mle_retvals\n",
            "  warnings.warn(\"Maximum Likelihood optimization failed to \"\n"
          ]
        },
        {
          "output_type": "stream",
          "name": "stdout",
          "text": [
            "modelo: ( 2 1 2 ) #: 22 vetor: [(2, 1, 2), 1093.503]\n",
            "modelo: ( 2 1 3 ) #: 23 vetor: [(2, 1, 3), 1102.753]\n",
            "modelo: ( 2 1 4 ) #: 24 vetor: [(2, 1, 4), 1104.78]\n",
            "modelo: ( 2 2 0 ) #: 25 vetor: [(2, 2, 0), 1192.675]\n",
            "modelo: ( 2 2 1 ) #: 26 vetor: [(2, 2, 1), 1100.26]\n",
            "modelo: ( 2 2 2 ) #: 27 vetor: [(2, 2, 2), 1102.182]\n"
          ]
        },
        {
          "output_type": "stream",
          "name": "stderr",
          "text": [
            "/usr/local/lib/python3.9/dist-packages/statsmodels/base/model.py:604: ConvergenceWarning: Maximum Likelihood optimization failed to converge. Check mle_retvals\n",
            "  warnings.warn(\"Maximum Likelihood optimization failed to \"\n"
          ]
        },
        {
          "output_type": "stream",
          "name": "stdout",
          "text": [
            "modelo: ( 2 2 3 ) #: 28 vetor: [(2, 2, 3), 1094.628]\n"
          ]
        },
        {
          "output_type": "stream",
          "name": "stderr",
          "text": [
            "/usr/local/lib/python3.9/dist-packages/statsmodels/base/model.py:604: ConvergenceWarning: Maximum Likelihood optimization failed to converge. Check mle_retvals\n",
            "  warnings.warn(\"Maximum Likelihood optimization failed to \"\n"
          ]
        },
        {
          "output_type": "stream",
          "name": "stdout",
          "text": [
            "modelo: ( 2 2 4 ) #: 29 vetor: [(2, 2, 4), 1100.489]\n",
            "modelo: ( 3 1 0 ) #: 30 vetor: [(3, 1, 0), 1107.263]\n",
            "modelo: ( 3 1 1 ) #: 31 vetor: [(3, 1, 1), 1100.684]\n"
          ]
        },
        {
          "output_type": "stream",
          "name": "stderr",
          "text": [
            "/usr/local/lib/python3.9/dist-packages/statsmodels/tsa/statespace/sarimax.py:966: UserWarning: Non-stationary starting autoregressive parameters found. Using zeros as starting parameters.\n",
            "  warn('Non-stationary starting autoregressive parameters'\n",
            "/usr/local/lib/python3.9/dist-packages/statsmodels/tsa/statespace/sarimax.py:978: UserWarning: Non-invertible starting MA parameters found. Using zeros as starting parameters.\n",
            "  warn('Non-invertible starting MA parameters found.'\n"
          ]
        },
        {
          "output_type": "stream",
          "name": "stdout",
          "text": [
            "modelo: ( 3 1 2 ) #: 32 vetor: [(3, 1, 2), 1102.511]\n"
          ]
        },
        {
          "output_type": "stream",
          "name": "stderr",
          "text": [
            "/usr/local/lib/python3.9/dist-packages/statsmodels/tsa/statespace/sarimax.py:966: UserWarning: Non-stationary starting autoregressive parameters found. Using zeros as starting parameters.\n",
            "  warn('Non-stationary starting autoregressive parameters'\n",
            "/usr/local/lib/python3.9/dist-packages/statsmodels/tsa/statespace/sarimax.py:978: UserWarning: Non-invertible starting MA parameters found. Using zeros as starting parameters.\n",
            "  warn('Non-invertible starting MA parameters found.'\n",
            "/usr/local/lib/python3.9/dist-packages/statsmodels/base/model.py:604: ConvergenceWarning: Maximum Likelihood optimization failed to converge. Check mle_retvals\n",
            "  warnings.warn(\"Maximum Likelihood optimization failed to \"\n"
          ]
        },
        {
          "output_type": "stream",
          "name": "stdout",
          "text": [
            "modelo: ( 3 1 3 ) #: 33 vetor: [(3, 1, 3), 1097.503]\n"
          ]
        },
        {
          "output_type": "stream",
          "name": "stderr",
          "text": [
            "/usr/local/lib/python3.9/dist-packages/statsmodels/base/model.py:604: ConvergenceWarning: Maximum Likelihood optimization failed to converge. Check mle_retvals\n",
            "  warnings.warn(\"Maximum Likelihood optimization failed to \"\n"
          ]
        },
        {
          "output_type": "stream",
          "name": "stdout",
          "text": [
            "modelo: ( 3 1 4 ) #: 34 vetor: [(3, 1, 4), 1106.682]\n",
            "modelo: ( 3 2 0 ) #: 35 vetor: [(3, 2, 0), 1162.01]\n",
            "modelo: ( 3 2 1 ) #: 36 vetor: [(3, 2, 1), 1102.138]\n",
            "modelo: ( 3 2 2 ) #: 37 vetor: [(3, 2, 2), 1104.102]\n"
          ]
        },
        {
          "output_type": "stream",
          "name": "stderr",
          "text": [
            "/usr/local/lib/python3.9/dist-packages/statsmodels/base/model.py:604: ConvergenceWarning: Maximum Likelihood optimization failed to converge. Check mle_retvals\n",
            "  warnings.warn(\"Maximum Likelihood optimization failed to \"\n"
          ]
        },
        {
          "output_type": "stream",
          "name": "stdout",
          "text": [
            "modelo: ( 3 2 3 ) #: 38 vetor: [(3, 2, 3), 1093.833]\n"
          ]
        },
        {
          "output_type": "stream",
          "name": "stderr",
          "text": [
            "/usr/local/lib/python3.9/dist-packages/statsmodels/base/model.py:604: ConvergenceWarning: Maximum Likelihood optimization failed to converge. Check mle_retvals\n",
            "  warnings.warn(\"Maximum Likelihood optimization failed to \"\n"
          ]
        },
        {
          "output_type": "stream",
          "name": "stdout",
          "text": [
            "modelo: ( 3 2 4 ) #: 39 vetor: [(3, 2, 4), 1103.262]\n",
            "modelo: ( 4 1 0 ) #: 40 vetor: [(4, 1, 0), 1107.176]\n",
            "modelo: ( 4 1 1 ) #: 41 vetor: [(4, 1, 1), 1102.432]\n"
          ]
        },
        {
          "output_type": "stream",
          "name": "stderr",
          "text": [
            "/usr/local/lib/python3.9/dist-packages/statsmodels/tsa/statespace/sarimax.py:966: UserWarning: Non-stationary starting autoregressive parameters found. Using zeros as starting parameters.\n",
            "  warn('Non-stationary starting autoregressive parameters'\n",
            "/usr/local/lib/python3.9/dist-packages/statsmodels/tsa/statespace/sarimax.py:978: UserWarning: Non-invertible starting MA parameters found. Using zeros as starting parameters.\n",
            "  warn('Non-invertible starting MA parameters found.'\n"
          ]
        },
        {
          "output_type": "stream",
          "name": "stdout",
          "text": [
            "modelo: ( 4 1 2 ) #: 42 vetor: [(4, 1, 2), 1104.414]\n"
          ]
        },
        {
          "output_type": "stream",
          "name": "stderr",
          "text": [
            "/usr/local/lib/python3.9/dist-packages/statsmodels/tsa/statespace/sarimax.py:966: UserWarning: Non-stationary starting autoregressive parameters found. Using zeros as starting parameters.\n",
            "  warn('Non-stationary starting autoregressive parameters'\n",
            "/usr/local/lib/python3.9/dist-packages/statsmodels/tsa/statespace/sarimax.py:978: UserWarning: Non-invertible starting MA parameters found. Using zeros as starting parameters.\n",
            "  warn('Non-invertible starting MA parameters found.'\n",
            "/usr/local/lib/python3.9/dist-packages/statsmodels/base/model.py:604: ConvergenceWarning: Maximum Likelihood optimization failed to converge. Check mle_retvals\n",
            "  warnings.warn(\"Maximum Likelihood optimization failed to \"\n"
          ]
        },
        {
          "output_type": "stream",
          "name": "stdout",
          "text": [
            "modelo: ( 4 1 3 ) #: 43 vetor: [(4, 1, 3), 1106.06]\n"
          ]
        },
        {
          "output_type": "stream",
          "name": "stderr",
          "text": [
            "/usr/local/lib/python3.9/dist-packages/statsmodels/base/model.py:604: ConvergenceWarning: Maximum Likelihood optimization failed to converge. Check mle_retvals\n",
            "  warnings.warn(\"Maximum Likelihood optimization failed to \"\n"
          ]
        },
        {
          "output_type": "stream",
          "name": "stdout",
          "text": [
            "modelo: ( 4 1 4 ) #: 44 vetor: [(4, 1, 4), 1098.541]\n",
            "modelo: ( 4 2 0 ) #: 45 vetor: [(4, 2, 0), 1143.912]\n",
            "modelo: ( 4 2 1 ) #: 46 vetor: [(4, 2, 1), 1103.962]\n",
            "modelo: ( 4 2 2 ) #: 47 vetor: [(4, 2, 2), 1106.042]\n"
          ]
        },
        {
          "output_type": "stream",
          "name": "stderr",
          "text": [
            "/usr/local/lib/python3.9/dist-packages/statsmodels/base/model.py:604: ConvergenceWarning: Maximum Likelihood optimization failed to converge. Check mle_retvals\n",
            "  warnings.warn(\"Maximum Likelihood optimization failed to \"\n"
          ]
        },
        {
          "output_type": "stream",
          "name": "stdout",
          "text": [
            "modelo: ( 4 2 3 ) #: 48 vetor: [(4, 2, 3), 1095.976]\n",
            "modelo: ( 4 2 4 ) #: 49 vetor: [(4, 2, 4), 1098.094]\n"
          ]
        },
        {
          "output_type": "stream",
          "name": "stderr",
          "text": [
            "/usr/local/lib/python3.9/dist-packages/statsmodels/base/model.py:604: ConvergenceWarning: Maximum Likelihood optimization failed to converge. Check mle_retvals\n",
            "  warnings.warn(\"Maximum Likelihood optimization failed to \"\n"
          ]
        }
      ]
    },
    {
      "cell_type": "code",
      "source": [
        "modelos = modelos.sort_values('aic', ascending=True).reset_index(drop=True)"
      ],
      "metadata": {
        "id": "vgJrY4AL-4l6"
      },
      "execution_count": null,
      "outputs": []
    },
    {
      "cell_type": "code",
      "source": [
        "model = ARIMA(poscovid_train['real'], order=modelos.loc[0][0], trend='t')\n",
        "mfit = model.fit()\n",
        "\n",
        "model1 = ARIMA(poscovid_train['real'], order=modelos.loc[1][0])\n",
        "mfit1 = model1.fit()\n",
        "\n",
        "model2 = ARIMA(poscovid_train['real'], order=modelos.loc[2][0])\n",
        "mfit2 = model2.fit()\n",
        "\n",
        "print(mfit.summary())\n"
      ],
      "metadata": {
        "id": "IEgHpVYeH1F2",
        "colab": {
          "base_uri": "https://localhost:8080/"
        },
        "outputId": "495da262-57a3-4f99-8bd2-abe8d023ec45"
      },
      "execution_count": null,
      "outputs": [
        {
          "output_type": "stream",
          "name": "stderr",
          "text": [
            "/usr/local/lib/python3.9/dist-packages/statsmodels/base/model.py:604: ConvergenceWarning: Maximum Likelihood optimization failed to converge. Check mle_retvals\n",
            "  warnings.warn(\"Maximum Likelihood optimization failed to \"\n",
            "/usr/local/lib/python3.9/dist-packages/statsmodels/base/model.py:604: ConvergenceWarning: Maximum Likelihood optimization failed to converge. Check mle_retvals\n",
            "  warnings.warn(\"Maximum Likelihood optimization failed to \"\n"
          ]
        },
        {
          "output_type": "stream",
          "name": "stdout",
          "text": [
            "                               SARIMAX Results                                \n",
            "==============================================================================\n",
            "Dep. Variable:                   real   No. Observations:                  292\n",
            "Model:                 ARIMA(2, 1, 2)   Log Likelihood                -539.167\n",
            "Date:                Sat, 15 Apr 2023   AIC                           1090.333\n",
            "Time:                        07:44:50   BIC                           1112.373\n",
            "Sample:                             0   HQIC                          1099.163\n",
            "                                - 292                                         \n",
            "Covariance Type:                  opg                                         \n",
            "==============================================================================\n",
            "                 coef    std err          z      P>|z|      [0.025      0.975]\n",
            "------------------------------------------------------------------------------\n",
            "x1             0.1951      0.089      2.186      0.029       0.020       0.370\n",
            "ar.L1          1.1810      0.032     37.461      0.000       1.119       1.243\n",
            "ar.L2         -0.8784      0.035    -25.158      0.000      -0.947      -0.810\n",
            "ma.L1         -1.3367      1.424     -0.938      0.348      -4.128       1.455\n",
            "ma.L2          0.9999      2.139      0.467      0.640      -3.193       5.193\n",
            "sigma2         2.3367      4.951      0.472      0.637      -7.366      12.040\n",
            "===================================================================================\n",
            "Ljung-Box (L1) (Q):                   2.56   Jarque-Bera (JB):               216.78\n",
            "Prob(Q):                              0.11   Prob(JB):                         0.00\n",
            "Heteroskedasticity (H):               4.16   Skew:                            -0.32\n",
            "Prob(H) (two-sided):                  0.00   Kurtosis:                         7.18\n",
            "===================================================================================\n",
            "\n",
            "Warnings:\n",
            "[1] Covariance matrix calculated using the outer product of gradients (complex-step).\n"
          ]
        },
        {
          "output_type": "stream",
          "name": "stderr",
          "text": [
            "/usr/local/lib/python3.9/dist-packages/statsmodels/base/model.py:604: ConvergenceWarning: Maximum Likelihood optimization failed to converge. Check mle_retvals\n",
            "  warnings.warn(\"Maximum Likelihood optimization failed to \"\n"
          ]
        }
      ]
    },
    {
      "cell_type": "code",
      "source": [
        "fig,ax = plt.subplots(figsize=(15,5))\n",
        "poscovid_train['real'].plot(ax=ax)\n",
        "poscovid_test['real'].plot(ax=ax)\n",
        "\n",
        "plt.title('Previsão do período COVID-19')\n",
        "plt.ylabel('R$')\n",
        "plt.xlabel('Observações')\n",
        "\n",
        "fcast = mfit.get_forecast(len(poscovid_test['real'])).summary_frame()\n",
        "fcast['mean'].plot(ax=ax, style='k--')\n",
        "ax.fill_between(fcast.index, fcast['mean_ci_lower'], fcast['mean_ci_upper'], color='k', alpha=0.1)\n",
        "plt.savefig('/content/drive/MyDrive/A-TCC DSA/Hector Jose Cervellon Urrutia/Analise_soja/imagens/previsao_covid.png')\n",
        "#fazer uma tabela que faça para 1, 2, 3 .... todos dados da bd e que mostre o mape"
      ],
      "metadata": {
        "id": "gaQGFcmXFidr",
        "colab": {
          "base_uri": "https://localhost:8080/",
          "height": 496
        },
        "outputId": "1db39552-8e4e-48f7-ec8d-d3e2bbcb6d45"
      },
      "execution_count": null,
      "outputs": [
        {
          "output_type": "display_data",
          "data": {
            "text/plain": [
              "<Figure size 1500x500 with 1 Axes>"
            ],
            "image/png": "[encoded data removed]"
          },
          "metadata": {}
        }
      ]
    },
    {
      "cell_type": "code",
      "source": [
        "fig,ax = plt.subplots(figsize=(15,5))\n",
        "poscovid['real'].plot(ax=ax)\n",
        "\n",
        "fcast1 = mfit1.get_forecast(len(poscovid_test['real'])).summary_frame()\n",
        "fcast1['mean'].plot(ax=ax, style='k--')\n",
        "ax.fill_between(fcast1.index, fcast1['mean_ci_lower'], fcast1['mean_ci_upper'], color='k', alpha=0.1)\n",
        "\n",
        "#fazer uma tabela que faça para 1, 2, 3 .... todos dados da bd e que mostre o mape'''"
      ],
      "metadata": {
        "id": "oi4KJv-NKlG7"
      },
      "execution_count": null,
      "outputs": []
    },
    {
      "cell_type": "code",
      "source": [
        "fig,ax = plt.subplots(figsize=(15,5))\n",
        "poscovid['real'].plot(ax=ax)\n",
        "\n",
        "fcast2 = mfit2.get_forecast(len(poscovid_test['real'])).summary_frame()\n",
        "fcast2['mean'].plot(ax=ax, style='k--')\n",
        "ax.fill_between(fcast2.index, fcast2['mean_ci_lower'], fcast2['mean_ci_upper'], color='k', alpha=0.05)\n",
        "#fazer uma tabela que faça para 1, 2, 3 .... todos dados da bd e que mostre o mape'''"
      ],
      "metadata": {
        "id": "XkqIkRknKSbY"
      },
      "execution_count": null,
      "outputs": []
    },
    {
      "cell_type": "markdown",
      "source": [
        "# Predict de datos"
      ],
      "metadata": {
        "id": "MSYOiUKM37AJ"
      }
    },
    {
      "cell_type": "code",
      "source": [
        "ypredict = mfit.predict()"
      ],
      "metadata": {
        "id": "inx3GZBy4A9u"
      },
      "execution_count": null,
      "outputs": []
    },
    {
      "cell_type": "code",
      "source": [
        "frames = [poscovid_train['real'],ypredict]\n",
        "result = pd.concat(frames, axis=1)\n",
        "fig = px.line(result)\n",
        "fig.show()"
      ],
      "metadata": {
        "id": "5rfKAcRJJnsc"
      },
      "execution_count": null,
      "outputs": []
    },
    {
      "cell_type": "markdown",
      "source": [
        "## Residuo e densidade das predições"
      ],
      "metadata": {
        "id": "mGtUNmfd71nJ"
      }
    },
    {
      "cell_type": "code",
      "source": [
        "residuals = mfit.resid[1:]\n",
        "fig, ax = plt.subplots(nrows=1,ncols=2)\n",
        "residuals.plot(title='Residuos modelo 1', ax=ax[0])\n",
        "residuals.plot(title='Densidade',kind='kde', ax=ax[1])\n",
        "\n",
        "plt.show()"
      ],
      "metadata": {
        "id": "CSD23pGz7Af9"
      },
      "execution_count": null,
      "outputs": []
    },
    {
      "cell_type": "code",
      "source": [
        "acf_res1 = plot_acf(residuals)\n",
        "pacf_res1 = plot_pacf(residuals)"
      ],
      "metadata": {
        "id": "t_hsq6SzBHt7"
      },
      "execution_count": null,
      "outputs": []
    },
    {
      "cell_type": "markdown",
      "source": [
        "# Forecast"
      ],
      "metadata": {
        "id": "8N-JO1lXbT40"
      }
    },
    {
      "cell_type": "code",
      "source": [
        "forecast = mfit.forecast(len(poscovid_test))\n",
        "poscovid['forecast'] = [None]*len(poscovid_train) + list(forecast)\n",
        "poscovid['get_forecast'] = [None]*len(poscovid_train) + list(fcast['mean']) + ([None]*(365 - (len(poscovid_train) + len(fcast['mean']))))\n"
      ],
      "metadata": {
        "id": "Qg99xwg1bZDM"
      },
      "execution_count": null,
      "outputs": []
    },
    {
      "cell_type": "code",
      "source": [
        "poscovid1 = poscovid\n",
        "poscovid1 "
      ],
      "metadata": {
        "id": "osOreJfDtRYV"
      },
      "execution_count": null,
      "outputs": []
    },
    {
      "cell_type": "code",
      "source": [
        "poscovid1.loc[290:293]['get_forecast'].plot(figsize=(30,10))"
      ],
      "metadata": {
        "id": "5AkzV9uXtU6P"
      },
      "execution_count": null,
      "outputs": []
    },
    {
      "cell_type": "code",
      "source": [
        "poscovid1.loc[291:365]"
      ],
      "metadata": {
        "id": "Tv-kuxbi8zNh"
      },
      "execution_count": null,
      "outputs": []
    },
    {
      "cell_type": "markdown",
      "source": [
        "# Auto Arima"
      ],
      "metadata": {
        "id": "bO6FgAa4MNvK"
      }
    },
    {
      "cell_type": "code",
      "source": [
        "\n",
        "import pmdarima as pm"
      ],
      "metadata": {
        "id": "tgY8o_rRMPSX"
      },
      "execution_count": null,
      "outputs": []
    },
    {
      "cell_type": "code",
      "source": [
        "auto_arima = pm.auto_arima(poscovid_train['real'], stepwise=False, seasonal=False, trend='t')\n",
        "auto_arima"
      ],
      "metadata": {
        "id": "jlRUou4TMTIx"
      },
      "execution_count": null,
      "outputs": []
    },
    {
      "cell_type": "code",
      "source": [
        "print(auto_arima.summary())"
      ],
      "metadata": {
        "id": "TU28McHjM9qh"
      },
      "execution_count": null,
      "outputs": []
    },
    {
      "cell_type": "code",
      "source": [
        "forecast_auto = auto_arima.predict(n_periods=len(poscovid_test))\n",
        "poscovid['auto'] = [None]*len(poscovid_train) + list(forecast_auto)\n",
        "poscovid1 = poscovid\n"
      ],
      "metadata": {
        "id": "_Dw-gHWgNaGy"
      },
      "execution_count": null,
      "outputs": []
    },
    {
      "cell_type": "code",
      "source": [
        "poscovid.iloc[290:366][['real','get_forecast','auto']].plot()"
      ],
      "metadata": {
        "id": "IBan1jKw87Pu"
      },
      "execution_count": null,
      "outputs": []
    },
    {
      "cell_type": "markdown",
      "source": [
        "#Metricas de Performance"
      ],
      "metadata": {
        "id": "8kgtUxA-dO4s"
      }
    },
    {
      "cell_type": "code",
      "source": [
        "from sklearn.metrics import mean_absolute_error, mean_absolute_percentage_error, mean_squared_error"
      ],
      "metadata": {
        "id": "r97c3PAYdOFk"
      },
      "execution_count": null,
      "outputs": []
    },
    {
      "cell_type": "markdown",
      "source": [
        "## Predict"
      ],
      "metadata": {
        "id": "KBv9QMLjOp53"
      }
    },
    {
      "cell_type": "code",
      "source": [
        "mae1 = mean_absolute_error(poscovid_train['real'],ypredict)\n",
        "mape1 = mean_absolute_percentage_error(poscovid_train['real'],ypredict)\n",
        "rmse1 = np.sqrt(mean_squared_error(poscovid_train['real'],ypredict))\n",
        "print(f' mae1: {round(mae1,4)}, mape1: {round(mape1,4)}, rmse1: {round(rmse1,4)}')\n"
      ],
      "metadata": {
        "id": "fXCuwFbsOsuW"
      },
      "execution_count": null,
      "outputs": []
    },
    {
      "cell_type": "code",
      "source": [
        "mae1 = mean_absolute_error(poscovid_test['real'],poscovid1.loc[292:365]['get_forecast'])\n",
        "mape1 = mean_absolute_percentage_error(poscovid.loc[292:365]['real'],poscovid1.loc[292:365]['get_forecast'])\n",
        "rmse1 = np.sqrt(mean_squared_error(poscovid.loc[292:365]['real'],poscovid1.loc[292:365]['get_forecast']))\n",
        "print(f' mae1: {round(mae1,4)}, mape1: {round(mape1,4)}, rmse1: {round(rmse1,4)}')\n"
      ],
      "metadata": {
        "id": "3zsgn6ldUQcL"
      },
      "execution_count": null,
      "outputs": []
    },
    {
      "cell_type": "markdown",
      "source": [
        "## Forecast"
      ],
      "metadata": {
        "id": "x8IAFoHmOj_T"
      }
    },
    {
      "cell_type": "code",
      "source": [
        "fcast1 =fcast\n",
        "fcast1 = fcast1.reset_index(drop=True)\n",
        "fcast1"
      ],
      "metadata": {
        "id": "87QBhEIgmUaz"
      },
      "execution_count": null,
      "outputs": []
    },
    {
      "cell_type": "code",
      "source": [
        "mae1 = mean_absolute_error(poscovid_test['real'],fcast1['mean'])\n",
        "mape1 = mean_absolute_percentage_error(poscovid_test['real'],fcast1['mean'])*100\n",
        "rmse1 = (mean_squared_error(poscovid_test['real'],fcast1['mean']))\n",
        "print(f' mae1: {round(mae1,4)}, mape1: {round(mape1,4)}, rmse1: {round(rmse1,4)}')\n",
        "\n",
        "mae = mean_absolute_error(poscovid_test['real'],forecast_auto)\n",
        "mape = mean_absolute_percentage_error(poscovid_test['real'],forecast_auto)\n",
        "rmse = np.sqrt(mean_squared_error(poscovid_test['real'],forecast_auto))\n",
        "print(f' mae_auto: {round(mae,4)}, mape_auto: {round(mape,4)}, rmse_auto: {round(rmse,4)}')"
      ],
      "metadata": {
        "id": "zhqq8BWsYScF"
      },
      "execution_count": null,
      "outputs": []
    },
    {
      "cell_type": "code",
      "source": [
        "sum(abs(poscovid_test['real']- fcast1['mean']))/73"
      ],
      "metadata": {
        "id": "vAssXmV2ROc2"
      },
      "execution_count": null,
      "outputs": []
    },
    {
      "cell_type": "code",
      "source": [
        "sum(abs(poscovid_test['real']- fcast1['mean'])/poscovid_test['real'])*100/73"
      ],
      "metadata": {
        "id": "scfBNfImcD1x"
      },
      "execution_count": null,
      "outputs": []
    },
    {
      "cell_type": "code",
      "source": [
        "sum((poscovid_test['real']- fcast1['mean'])**2)/73"
      ],
      "metadata": {
        "id": "cMaLGeCYcJIu"
      },
      "execution_count": null,
      "outputs": []
    },
    {
      "cell_type": "code",
      "source": [],
      "metadata": {
        "id": "-Hq3RPgQcNpn"
      },
      "execution_count": null,
      "outputs": []
    }
  ]
}